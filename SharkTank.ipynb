{
 "cells": [
  {
   "cell_type": "markdown",
   "metadata": {},
   "source": [
    "---\n",
    "# Examine effect of gender on Shark Tank deals\n",
    "---"
   ]
  },
  {
   "cell_type": "code",
   "execution_count": 62,
   "metadata": {},
   "outputs": [],
   "source": [
    "import pandas as pd\n",
    "import numpy as np\n",
    "import matplotlib.pyplot as plt\n",
    "plt.style.use('seaborn')\n",
    "FS = 16\n",
    "from genderize import Genderize"
   ]
  },
  {
   "cell_type": "markdown",
   "metadata": {},
   "source": [
    "## Load the Shark Tank data"
   ]
  },
  {
   "cell_type": "code",
   "execution_count": 181,
   "metadata": {},
   "outputs": [],
   "source": [
    "# df = pd.read_csv('./data/SharkTankDeals.csv').dropna(subset=['Valuation'])\n",
    "df = pd.read_csv('./data/SharkTankDeals.csv').dropna(subset=['Entrepreneur Gender'])\n",
    "df.rename(columns = {'Entrepreneur Gender':'gender'}, inplace = True)"
   ]
  },
  {
   "cell_type": "code",
   "execution_count": 167,
   "metadata": {},
   "outputs": [
    {
     "data": {
      "text/plain": [
       "<matplotlib.axes._subplots.AxesSubplot at 0x10e83bd68>"
      ]
     },
     "execution_count": 167,
     "metadata": {},
     "output_type": "execute_result"
    },
    {
     "data": {
      "image/png": "[encoded data removed]",
      "text/plain": [
       "<Figure size 576x396 with 1 Axes>"
      ]
     },
     "metadata": {},
     "output_type": "display_data"
    }
   ],
   "source": [
    "df['Valuation'] = [int(value.split('$',1)[-1].replace(',','')) for value in df.Valuation.values]\n",
    "df.Valuation.plot.hist(50)"
   ]
  },
  {
   "cell_type": "code",
   "execution_count": 5,
   "metadata": {},
   "outputs": [],
   "source": [
    "df = pd.read_csv('./data/Shark Tank Companies.csv').dropna(subset=['entrepreneurs'])\n",
    "df.valuation = df.valuation/1e6"
   ]
  },
  {
   "cell_type": "code",
   "execution_count": 9,
   "metadata": {},
   "outputs": [],
   "source": [
    "names = [name.split(',')[0].split(' ')[0] for name in df.entrepreneurs]"
   ]
  },
  {
   "cell_type": "markdown",
   "metadata": {},
   "source": [
    "## Determine gender of entrepreneur based on first name"
   ]
  },
  {
   "cell_type": "code",
   "execution_count": null,
   "metadata": {
    "scrolled": true
   },
   "outputs": [],
   "source": [
    "# genders = [(item['name'], item['gender']) for item in Genderize().get(names) if item['probability']>0.8]\n",
    "genders = [(item['name'], item['gender']) for item in Genderize().get(names)]\n",
    "genders[:10]"
   ]
  },
  {
   "cell_type": "code",
   "execution_count": 11,
   "metadata": {},
   "outputs": [],
   "source": [
    "# Add the genders to the dataframe\n",
    "df['gender'] = [g[1] for g in genders]"
   ]
  },
  {
   "cell_type": "code",
   "execution_count": 184,
   "metadata": {},
   "outputs": [
    {
     "name": "stdout",
     "output_type": "stream",
     "text": [
      "Total male   entrepreneurs: 295\n",
      "Total female entrepreneurs: 125\n"
     ]
    }
   ],
   "source": [
    "print('Total male   entrepreneurs: {}'.format((df.gender=='Male').sum()))\n",
    "print('Total female entrepreneurs: {}'.format((df.gender=='Female').sum()))"
   ]
  },
  {
   "cell_type": "markdown",
   "metadata": {},
   "source": [
    "### Relationship between gender and deal details"
   ]
  },
  {
   "cell_type": "code",
   "execution_count": 186,
   "metadata": {},
   "outputs": [
    {
     "ename": "AttributeError",
     "evalue": "'DataFrame' object has no attribute 'valuation'",
     "output_type": "error",
     "traceback": [
      "\u001b[0;31m---------------------------------------------------------------------------\u001b[0m",
      "\u001b[0;31mAttributeError\u001b[0m                            Traceback (most recent call last)",
      "\u001b[0;32m<ipython-input-186-2d0122ce3a2b>\u001b[0m in \u001b[0;36m<module>\u001b[0;34m()\u001b[0m\n\u001b[1;32m      2\u001b[0m \u001b[0mfig\u001b[0m\u001b[0;34m,\u001b[0m \u001b[0maxs\u001b[0m \u001b[0;34m=\u001b[0m \u001b[0mplt\u001b[0m\u001b[0;34m.\u001b[0m\u001b[0msubplots\u001b[0m\u001b[0;34m(\u001b[0m\u001b[0mnrows\u001b[0m\u001b[0;34m=\u001b[0m\u001b[0;36m2\u001b[0m\u001b[0;34m,\u001b[0m \u001b[0mfigsize\u001b[0m\u001b[0;34m=\u001b[0m\u001b[0;34m(\u001b[0m\u001b[0;36m8\u001b[0m\u001b[0;34m,\u001b[0m\u001b[0;36m8\u001b[0m\u001b[0;34m)\u001b[0m\u001b[0;34m,\u001b[0m \u001b[0msharex\u001b[0m\u001b[0;34m=\u001b[0m\u001b[0;32mTrue\u001b[0m\u001b[0;34m)\u001b[0m\u001b[0;34m\u001b[0m\u001b[0m\n\u001b[1;32m      3\u001b[0m \u001b[0;32mfor\u001b[0m \u001b[0max\u001b[0m\u001b[0;34m,\u001b[0m\u001b[0mg\u001b[0m \u001b[0;32min\u001b[0m \u001b[0mzip\u001b[0m\u001b[0;34m(\u001b[0m\u001b[0maxs\u001b[0m\u001b[0;34m,\u001b[0m\u001b[0mgender_labels\u001b[0m\u001b[0;34m)\u001b[0m\u001b[0;34m:\u001b[0m\u001b[0;34m\u001b[0m\u001b[0m\n\u001b[0;32m----> 4\u001b[0;31m     \u001b[0mdf\u001b[0m\u001b[0;34m.\u001b[0m\u001b[0mvaluation\u001b[0m\u001b[0;34m[\u001b[0m\u001b[0mdf\u001b[0m\u001b[0;34m.\u001b[0m\u001b[0mgender\u001b[0m\u001b[0;34m==\u001b[0m\u001b[0mg\u001b[0m\u001b[0;34m[\u001b[0m\u001b[0;36m0\u001b[0m\u001b[0;34m]\u001b[0m\u001b[0;34m]\u001b[0m\u001b[0;34m.\u001b[0m\u001b[0mplot\u001b[0m\u001b[0;34m.\u001b[0m\u001b[0mhist\u001b[0m\u001b[0;34m(\u001b[0m\u001b[0;36m50\u001b[0m\u001b[0;34m,\u001b[0m \u001b[0max\u001b[0m\u001b[0;34m=\u001b[0m\u001b[0max\u001b[0m\u001b[0;34m,\u001b[0m \u001b[0mdensity\u001b[0m\u001b[0;34m=\u001b[0m\u001b[0;32mTrue\u001b[0m\u001b[0;34m,\u001b[0m \u001b[0malpha\u001b[0m\u001b[0;34m=\u001b[0m\u001b[0;36m1\u001b[0m\u001b[0;34m,\u001b[0m \u001b[0mcolor\u001b[0m\u001b[0;34m=\u001b[0m\u001b[0mg\u001b[0m\u001b[0;34m[\u001b[0m\u001b[0;36m1\u001b[0m\u001b[0;34m]\u001b[0m\u001b[0;34m)\u001b[0m\u001b[0;34m\u001b[0m\u001b[0m\n\u001b[0m\u001b[1;32m      5\u001b[0m     \u001b[0;34m[\u001b[0m\u001b[0max\u001b[0m\u001b[0;34m.\u001b[0m\u001b[0mspines\u001b[0m\u001b[0;34m[\u001b[0m\u001b[0ms\u001b[0m\u001b[0;34m]\u001b[0m\u001b[0;34m.\u001b[0m\u001b[0mset_visible\u001b[0m\u001b[0;34m(\u001b[0m\u001b[0;32mFalse\u001b[0m\u001b[0;34m)\u001b[0m \u001b[0;32mfor\u001b[0m \u001b[0ms\u001b[0m \u001b[0;32min\u001b[0m \u001b[0;34m[\u001b[0m\u001b[0;34m'right'\u001b[0m\u001b[0;34m,\u001b[0m\u001b[0;34m'top'\u001b[0m\u001b[0;34m,\u001b[0m\u001b[0;34m'left'\u001b[0m\u001b[0;34m]\u001b[0m\u001b[0;34m]\u001b[0m\u001b[0;34m\u001b[0m\u001b[0m\n\u001b[1;32m      6\u001b[0m \u001b[0;31m#     ax.set_title(g[0] + ' entrepreneurs', fontsize=FS)\u001b[0m\u001b[0;34m\u001b[0m\u001b[0;34m\u001b[0m\u001b[0m\n",
      "\u001b[0;32m~/Projects/scratch/sharktank/lib/python3.6/site-packages/pandas/core/generic.py\u001b[0m in \u001b[0;36m__getattr__\u001b[0;34m(self, name)\u001b[0m\n\u001b[1;32m   4370\u001b[0m             \u001b[0;32mif\u001b[0m \u001b[0mself\u001b[0m\u001b[0;34m.\u001b[0m\u001b[0m_info_axis\u001b[0m\u001b[0;34m.\u001b[0m\u001b[0m_can_hold_identifiers_and_holds_name\u001b[0m\u001b[0;34m(\u001b[0m\u001b[0mname\u001b[0m\u001b[0;34m)\u001b[0m\u001b[0;34m:\u001b[0m\u001b[0;34m\u001b[0m\u001b[0m\n\u001b[1;32m   4371\u001b[0m                 \u001b[0;32mreturn\u001b[0m \u001b[0mself\u001b[0m\u001b[0;34m[\u001b[0m\u001b[0mname\u001b[0m\u001b[0;34m]\u001b[0m\u001b[0;34m\u001b[0m\u001b[0m\n\u001b[0;32m-> 4372\u001b[0;31m             \u001b[0;32mreturn\u001b[0m \u001b[0mobject\u001b[0m\u001b[0;34m.\u001b[0m\u001b[0m__getattribute__\u001b[0m\u001b[0;34m(\u001b[0m\u001b[0mself\u001b[0m\u001b[0;34m,\u001b[0m \u001b[0mname\u001b[0m\u001b[0;34m)\u001b[0m\u001b[0;34m\u001b[0m\u001b[0m\n\u001b[0m\u001b[1;32m   4373\u001b[0m \u001b[0;34m\u001b[0m\u001b[0m\n\u001b[1;32m   4374\u001b[0m     \u001b[0;32mdef\u001b[0m \u001b[0m__setattr__\u001b[0m\u001b[0;34m(\u001b[0m\u001b[0mself\u001b[0m\u001b[0;34m,\u001b[0m \u001b[0mname\u001b[0m\u001b[0;34m,\u001b[0m \u001b[0mvalue\u001b[0m\u001b[0;34m)\u001b[0m\u001b[0;34m:\u001b[0m\u001b[0;34m\u001b[0m\u001b[0m\n",
      "\u001b[0;31mAttributeError\u001b[0m: 'DataFrame' object has no attribute 'valuation'"
     ]
    },
    {
     "data": {
      "image/png": "[encoded data removed]",
      "text/plain": [
       "<Figure size 576x576 with 2 Axes>"
      ]
     },
     "metadata": {},
     "output_type": "display_data"
    }
   ],
   "source": [
    "gender_labels = [('Male','b'), ('Female','r')]\n",
    "fig, axs = plt.subplots(nrows=2, figsize=(8,8), sharex=True)\n",
    "for ax,g in zip(axs,gender_labels):\n",
    "    df.valuation[df.gender==g[0]].plot.hist(50, ax=ax, density=True, alpha=1, color=g[1])\n",
    "    [ax.spines[s].set_visible(False) for s in ['right','top','left']]\n",
    "#     ax.set_title(g[0] + ' entrepreneurs', fontsize=FS)    \n",
    "    ax.set_xlabel('Evaluation (millions of $)', fontsize=FS-2)\n",
    "    ax.set_ylabel('')    \n",
    "    ax.set_yticklabels('')\n",
    "    ax.set_yticks([])\n",
    "    ax.set_xlim([0,10])\n",
    "    for tick in ax.xaxis.get_major_ticks():\n",
    "        tick.label.set_fontsize(FS)\n",
    "    midx = np.mean(ax.get_xlim())\n",
    "    topy = 0.9*np.max(ax.get_ylim())    \n",
    "    ax.text(midx,topy,g[0] + ' entrepreneurs', fontsize=FS, horizontalalignment='center')"
   ]
  },
  {
   "cell_type": "code",
   "execution_count": 188,
   "metadata": {},
   "outputs": [
    {
     "ename": "AttributeError",
     "evalue": "'DataFrame' object has no attribute 'deal'",
     "output_type": "error",
     "traceback": [
      "\u001b[0;31m---------------------------------------------------------------------------\u001b[0m",
      "\u001b[0;31mAttributeError\u001b[0m                            Traceback (most recent call last)",
      "\u001b[0;32m<ipython-input-188-36afe5ed4fc0>\u001b[0m in \u001b[0;36m<module>\u001b[0;34m()\u001b[0m\n\u001b[1;32m      1\u001b[0m \u001b[0;32mfor\u001b[0m \u001b[0mgender\u001b[0m \u001b[0;32min\u001b[0m \u001b[0;34m[\u001b[0m\u001b[0;34m'Male'\u001b[0m\u001b[0;34m,\u001b[0m\u001b[0;34m'Female'\u001b[0m\u001b[0;34m]\u001b[0m\u001b[0;34m:\u001b[0m\u001b[0;34m\u001b[0m\u001b[0m\n\u001b[0;32m----> 2\u001b[0;31m     \u001b[0mpercent_funded\u001b[0m \u001b[0;34m=\u001b[0m \u001b[0;34m(\u001b[0m\u001b[0;34m(\u001b[0m\u001b[0mdf\u001b[0m\u001b[0;34m.\u001b[0m\u001b[0mgender\u001b[0m\u001b[0;34m==\u001b[0m\u001b[0mgender\u001b[0m\u001b[0;34m)\u001b[0m\u001b[0;34m.\u001b[0m\u001b[0mvalues\u001b[0m \u001b[0;34m*\u001b[0m \u001b[0mdf\u001b[0m\u001b[0;34m.\u001b[0m\u001b[0mdeal\u001b[0m\u001b[0;34m.\u001b[0m\u001b[0mvalues\u001b[0m\u001b[0;34m)\u001b[0m\u001b[0;34m.\u001b[0m\u001b[0msum\u001b[0m\u001b[0;34m(\u001b[0m\u001b[0;34m)\u001b[0m\u001b[0;34m/\u001b[0m\u001b[0;34m(\u001b[0m\u001b[0mdf\u001b[0m\u001b[0;34m.\u001b[0m\u001b[0mgender\u001b[0m\u001b[0;34m==\u001b[0m\u001b[0mgender\u001b[0m\u001b[0;34m)\u001b[0m\u001b[0;34m.\u001b[0m\u001b[0msum\u001b[0m\u001b[0;34m(\u001b[0m\u001b[0;34m)\u001b[0m\u001b[0;34m\u001b[0m\u001b[0m\n\u001b[0m\u001b[1;32m      3\u001b[0m \u001b[0;31m#     valuation = df.valuation[df.gender==gender].median()\u001b[0m\u001b[0;34m\u001b[0m\u001b[0;34m\u001b[0m\u001b[0m\n\u001b[1;32m      4\u001b[0m     \u001b[0mprint\u001b[0m\u001b[0;34m(\u001b[0m\u001b[0;34m'-'\u001b[0m\u001b[0;34m*\u001b[0m\u001b[0;36m30\u001b[0m\u001b[0;34m)\u001b[0m\u001b[0;34m\u001b[0m\u001b[0m\n\u001b[1;32m      5\u001b[0m     \u001b[0mprint\u001b[0m\u001b[0;34m(\u001b[0m\u001b[0;34m'Total {} entrepreneurs: {}'\u001b[0m\u001b[0;34m.\u001b[0m\u001b[0mformat\u001b[0m\u001b[0;34m(\u001b[0m\u001b[0mgender\u001b[0m\u001b[0;34m,\u001b[0m \u001b[0;34m(\u001b[0m\u001b[0mdf\u001b[0m\u001b[0;34m.\u001b[0m\u001b[0mgender\u001b[0m\u001b[0;34m==\u001b[0m\u001b[0mgender\u001b[0m\u001b[0;34m)\u001b[0m\u001b[0;34m.\u001b[0m\u001b[0msum\u001b[0m\u001b[0;34m(\u001b[0m\u001b[0;34m)\u001b[0m\u001b[0;34m)\u001b[0m\u001b[0;34m)\u001b[0m\u001b[0;34m\u001b[0m\u001b[0m\n",
      "\u001b[0;32m~/Projects/scratch/sharktank/lib/python3.6/site-packages/pandas/core/generic.py\u001b[0m in \u001b[0;36m__getattr__\u001b[0;34m(self, name)\u001b[0m\n\u001b[1;32m   4370\u001b[0m             \u001b[0;32mif\u001b[0m \u001b[0mself\u001b[0m\u001b[0;34m.\u001b[0m\u001b[0m_info_axis\u001b[0m\u001b[0;34m.\u001b[0m\u001b[0m_can_hold_identifiers_and_holds_name\u001b[0m\u001b[0;34m(\u001b[0m\u001b[0mname\u001b[0m\u001b[0;34m)\u001b[0m\u001b[0;34m:\u001b[0m\u001b[0;34m\u001b[0m\u001b[0m\n\u001b[1;32m   4371\u001b[0m                 \u001b[0;32mreturn\u001b[0m \u001b[0mself\u001b[0m\u001b[0;34m[\u001b[0m\u001b[0mname\u001b[0m\u001b[0;34m]\u001b[0m\u001b[0;34m\u001b[0m\u001b[0m\n\u001b[0;32m-> 4372\u001b[0;31m             \u001b[0;32mreturn\u001b[0m \u001b[0mobject\u001b[0m\u001b[0;34m.\u001b[0m\u001b[0m__getattribute__\u001b[0m\u001b[0;34m(\u001b[0m\u001b[0mself\u001b[0m\u001b[0;34m,\u001b[0m \u001b[0mname\u001b[0m\u001b[0;34m)\u001b[0m\u001b[0;34m\u001b[0m\u001b[0m\n\u001b[0m\u001b[1;32m   4373\u001b[0m \u001b[0;34m\u001b[0m\u001b[0m\n\u001b[1;32m   4374\u001b[0m     \u001b[0;32mdef\u001b[0m \u001b[0m__setattr__\u001b[0m\u001b[0;34m(\u001b[0m\u001b[0mself\u001b[0m\u001b[0;34m,\u001b[0m \u001b[0mname\u001b[0m\u001b[0;34m,\u001b[0m \u001b[0mvalue\u001b[0m\u001b[0;34m)\u001b[0m\u001b[0;34m:\u001b[0m\u001b[0;34m\u001b[0m\u001b[0m\n",
      "\u001b[0;31mAttributeError\u001b[0m: 'DataFrame' object has no attribute 'deal'"
     ]
    }
   ],
   "source": [
    "for gender in ['male','female']:\n",
    "    percent_funded = ((df.gender==gender).values * df.deal.values).sum()/(df.gender==gender).sum()\n",
    "    valuation = df.valuation[df.gender==gender].median()\n",
    "    print('-'*30)\n",
    "    print('Total {} entrepreneurs: {}'.format(gender, (df.gender==gender).sum()))\n",
    "    print(\"{:.1f} % of {}s were funded.\".format(100*percent_funded, gender))\n",
    "    print(\"Median valuation of {} companies: ${:.2f} million\".format(gender, valuation))\n",
    "    print('\\n')"
   ]
  },
  {
   "cell_type": "code",
   "execution_count": 241,
   "metadata": {},
   "outputs": [],
   "source": [
    "sharks = ['Corcoran', 'Greiner', 'Cuban', 'Herjavec', 'John', \"O'Leary\", \"Harrington\"]\n",
    "for shark in sharks:\n",
    "    df[shark].fillna(0, inplace=True)"
   ]
  },
  {
   "cell_type": "code",
   "execution_count": 242,
   "metadata": {},
   "outputs": [
    {
     "name": "stdout",
     "output_type": "stream",
     "text": [
      "------------------------------Corcoran------------------------------\n",
      "of the 295 Male entrepreneurs Corcoran met, they funded 6.4%.\n",
      "of the 125 Female entrepreneurs Corcoran met, they funded 19.2%.\n",
      "------------------------------Greiner------------------------------\n",
      "of the 295 Male entrepreneurs Greiner met, they funded 9.2%.\n",
      "of the 125 Female entrepreneurs Greiner met, they funded 12.0%.\n",
      "------------------------------Cuban------------------------------\n",
      "of the 295 Male entrepreneurs Cuban met, they funded 14.6%.\n",
      "of the 125 Female entrepreneurs Cuban met, they funded 16.0%.\n",
      "------------------------------Herjavec------------------------------\n",
      "of the 295 Male entrepreneurs Herjavec met, they funded 13.2%.\n",
      "of the 125 Female entrepreneurs Herjavec met, they funded 5.6%.\n",
      "------------------------------John------------------------------\n",
      "of the 295 Male entrepreneurs John met, they funded 11.5%.\n",
      "of the 125 Female entrepreneurs John met, they funded 12.0%.\n",
      "------------------------------O'Leary------------------------------\n",
      "of the 295 Male entrepreneurs O'Leary met, they funded 7.5%.\n",
      "of the 125 Female entrepreneurs O'Leary met, they funded 5.6%.\n",
      "------------------------------Harrington------------------------------\n",
      "of the 295 Male entrepreneurs Harrington met, they funded 1.7%.\n",
      "of the 125 Female entrepreneurs Harrington met, they funded 2.4%.\n"
     ]
    }
   ],
   "source": [
    "for shark in sharks:\n",
    "    print('-'*30 + shark + '-'*30)        \n",
    "    for gender in ['Male','Female']:\n",
    "        num_gender = (df.gender==gender).sum()\n",
    "        percent_funded = 100*df[shark][df.gender==gender].sum()/num_gender\n",
    "        print(\"of the {num:.0f} {gender} entrepreneurs {shark} met, they funded {per:.1f}%.\".format(\n",
    "                num=num_gender, gender=gender, shark=shark, per=percent_funded))"
   ]
  },
  {
   "cell_type": "code",
   "execution_count": 259,
   "metadata": {},
   "outputs": [
    {
     "data": {
      "image/png": "[encoded data removed]",
      "text/plain": [
       "<Figure size 864x576 with 7 Axes>"
      ]
     },
     "metadata": {},
     "output_type": "display_data"
    }
   ],
   "source": [
    "fig, axs = plt.subplots(ncols=len(sharks), sharey=True, figsize=(12,8))\n",
    "for ax,shark in zip(axs,sharks):   \n",
    "    percent_funded = []\n",
    "    for n,gender in enumerate([('Male','b'),('Female','r')]):\n",
    "        num_gender = (df.gender==gender[0]).sum()\n",
    "#         percent_funded.append(100*df[shark][df.gender==gender[0]].sum()/num_gender)        \n",
    "        percent_funded.append(100*((df.gender==gender[0]).values * df[shark].values).sum()/df[shark].sum())\n",
    "        \n",
    "    # Bar plot    \n",
    "    ax.bar([0,1], percent_funded)\n",
    "#     ax.set_facecolor(gender[1])\n",
    "    if ax==axs[0]:\n",
    "        ax.set_ylabel('Percent funded', fontsize=FS)\n",
    "    ax.set_xticklabels(['','M','F'])\n",
    "    ax.set_xlabel(shark, fontsize=FS)"
   ]
  },
  {
   "cell_type": "code",
   "execution_count": 222,
   "metadata": {},
   "outputs": [
    {
     "name": "stdout",
     "output_type": "stream",
     "text": [
      "------------------------------Corcoran------------------------------\n",
      "Of the 51 entrepreneurs Corcoran funded, 37.3 % were Male.\n",
      "Of the 51 entrepreneurs Corcoran funded, 47.1 % were Female.\n",
      "------------------------------Cuban------------------------------\n",
      "Of the 76 entrepreneurs Cuban funded, 56.6 % were Male.\n",
      "Of the 76 entrepreneurs Cuban funded, 26.3 % were Female.\n",
      "------------------------------Greiner------------------------------\n",
      "Of the 51 entrepreneurs Greiner funded, 52.9 % were Male.\n",
      "Of the 51 entrepreneurs Greiner funded, 29.4 % were Female.\n",
      "------------------------------Herjavec------------------------------\n",
      "Of the 53 entrepreneurs Herjavec funded, 73.6 % were Male.\n",
      "Of the 53 entrepreneurs Herjavec funded, 13.2 % were Female.\n",
      "------------------------------John------------------------------\n",
      "Of the 57 entrepreneurs John funded, 59.6 % were Male.\n",
      "Of the 57 entrepreneurs John funded, 26.3 % were Female.\n",
      "------------------------------O'Leary------------------------------\n",
      "Of the 35 entrepreneurs O'Leary funded, 62.9 % were Male.\n",
      "Of the 35 entrepreneurs O'Leary funded, 20.0 % were Female.\n",
      "------------------------------Harrington------------------------------\n",
      "Of the 8 entrepreneurs Harrington funded, 62.5 % were Male.\n",
      "Of the 8 entrepreneurs Harrington funded, 37.5 % were Female.\n"
     ]
    }
   ],
   "source": [
    "for shark in sharks:\n",
    "    print('-'*30 + shark + '-'*30)        \n",
    "    for gender in ['Male','Female']:\n",
    "        percent_funded = ((df.gender==gender).values * df[shark].values).sum()/df[shark].sum()\n",
    "        print(\"Of the {num:.0f} entrepreneurs {shark} funded, {per:.1f} % were {gender}.\".format(\n",
    "            num=df[shark].sum(), shark=shark, per=100*percent_funded, gender=gender))"
   ]
  },
  {
   "cell_type": "markdown",
   "metadata": {},
   "source": [
    "### Effect of requested valuation on success of deal"
   ]
  },
  {
   "cell_type": "code",
   "execution_count": 125,
   "metadata": {},
   "outputs": [
    {
     "name": "stdout",
     "output_type": "stream",
     "text": [
      "The median valuation where deal is True is $0.90 million\n",
      "The median valuation where deal is False is $0.83 million\n"
     ]
    }
   ],
   "source": [
    "for deal in [True, False]:\n",
    "    valuation = df.valuation[df.deal==deal].median()\n",
    "    print('The median valuation where deal is {} is ${:.2f} million'.format(deal, valuation))"
   ]
  },
  {
   "cell_type": "code",
   "execution_count": null,
   "metadata": {},
   "outputs": [],
   "source": [
    "\n",
    "\n",
    "\n",
    "\n",
    "\n",
    "\n",
    "\n",
    "\n",
    "\n",
    "\n",
    "\n",
    "\n",
    "\n",
    "\n",
    "\n",
    "\n",
    "\n",
    "\n",
    "\n",
    "\n",
    "\n",
    "\n",
    "\n",
    "\n"
   ]
  }
 ],
 "metadata": {
  "kernelspec": {
   "display_name": "Python 3",
   "language": "python",
   "name": "python3"
  },
  "language_info": {
   "codemirror_mode": {
    "name": "ipython",
    "version": 3
   },
   "file_extension": ".py",
   "mimetype": "text/x-python",
   "name": "python",
   "nbconvert_exporter": "python",
   "pygments_lexer": "ipython3",
   "version": "3.6.5"
  }
 },
 "nbformat": 4,
 "nbformat_minor": 2
}
