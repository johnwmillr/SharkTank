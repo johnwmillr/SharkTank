{
 "cells": [
  {
   "cell_type": "markdown",
   "metadata": {},
   "source": [
    "---\n",
    "# Determine which episodes each Shark was present for\n",
    "---"
   ]
  },
  {
   "cell_type": "code",
   "execution_count": 96,
   "metadata": {},
   "outputs": [],
   "source": [
    "from bs4 import BeautifulSoup as bs\n",
    "import pandas as pd\n",
    "import numpy as np\n",
    "import requests\n",
    "import json"
   ]
  },
  {
   "cell_type": "markdown",
   "metadata": {},
   "source": [
    "## Load the Shark Tank data"
   ]
  },
  {
   "cell_type": "code",
   "execution_count": 145,
   "metadata": {},
   "outputs": [],
   "source": [
    "# https://www.quora.com/What-have-you-learned-from-watching-the-television-program-Shark-Tank/answer/Halle-Tecco\n",
    "df = pd.read_csv('./data/SharkTankData.csv').dropna(subset=['Entrepreneur Gender'])\n",
    "df.rename(columns = {'Entrepreneur Gender':'gender'}, inplace = True)\n",
    "df = df[df.gender != 'Mixed Team']"
   ]
  },
  {
   "cell_type": "code",
   "execution_count": 146,
   "metadata": {},
   "outputs": [],
   "source": [
    "# Add columns to dataframe to record Shark attendance\n",
    "shark_names = {'Mark': 'Cuban', 'Daymond': 'John', 'Barbara': 'Corcoran', 'Robert': 'Herjavec', 'Kevin': \"O'Leary\", 'Lori': 'Greiner'}\n",
    "# shark_names = dict(zip(shark_names.values(), shark_names.keys()))\n",
    "for val in shark_names.values():\n",
    "    df[val+'_present'] = pd.Series(np.zeros(df.shape[0]), index=df.index)"
   ]
  },
  {
   "cell_type": "markdown",
   "metadata": {},
   "source": [
    "## Scrape the Wikipedia page"
   ]
  },
  {
   "cell_type": "code",
   "execution_count": 27,
   "metadata": {},
   "outputs": [],
   "source": [
    "# Get the HTML for the Wikipedia page\n",
    "url = 'https://en.wikipedia.org/wiki/List_of_Shark_Tank_episodes'\n",
    "page = requests.get(url)\n",
    "html = bs(page.text, 'html.parser')"
   ]
  },
  {
   "cell_type": "code",
   "execution_count": 46,
   "metadata": {},
   "outputs": [],
   "source": [
    "# Get the season descriptions\n",
    "seasons = html.find_all('table', class_=\"wikitable plainrowheaders wikiepisodetable\")"
   ]
  },
  {
   "cell_type": "code",
   "execution_count": 161,
   "metadata": {},
   "outputs": [
    {
     "data": {
      "text/plain": [
       "'Daymond'"
      ]
     },
     "execution_count": 161,
     "metadata": {},
     "output_type": "execute_result"
    }
   ],
   "source": [
    "shark_names['John']"
   ]
  },
  {
   "cell_type": "code",
   "execution_count": 177,
   "metadata": {},
   "outputs": [
    {
     "data": {
      "text/plain": [
       "{'Mark': 'Cuban',\n",
       " 'Daymond': 'John',\n",
       " 'Barbara': 'Corcoran',\n",
       " 'Robert': 'Herjavec',\n",
       " 'Kevin': \"O'Leary\",\n",
       " 'Lori': 'Greiner'}"
      ]
     },
     "execution_count": 177,
     "metadata": {},
     "output_type": "execute_result"
    }
   ],
   "source": [
    "shark_names"
   ]
  },
  {
   "cell_type": "code",
   "execution_count": 178,
   "metadata": {},
   "outputs": [
    {
     "data": {
      "text/plain": [
       "['Mark', 'Barbara', 'Kevin', 'Lori', 'Robert']"
      ]
     },
     "execution_count": 178,
     "metadata": {},
     "output_type": "execute_result"
    }
   ],
   "source": [
    "sharks"
   ]
  },
  {
   "cell_type": "code",
   "execution_count": 175,
   "metadata": {},
   "outputs": [
    {
     "name": "stdout",
     "output_type": "stream",
     "text": [
      "------------------------------\n",
      "Season: 1\n",
      "------------------------------\n",
      "Season: 2\n",
      "------------------------------\n",
      "Season: 3\n",
      "------------------------------\n",
      "Season: 4\n",
      "------------------------------\n",
      "Season: 5\n"
     ]
    }
   ],
   "source": [
    "for num_season,season in enumerate(seasons[:5]):\n",
    "    print(\"-\"*30)\n",
    "    print(\"Season: {}\".format(num_season+1))\n",
    "    episodes = season.find_all('td', class_='description')\n",
    "    for num_episode,episode in enumerate(episodes):\n",
    "        # Determine which Sharks were on the episode\n",
    "        if num_season==0:\n",
    "            sharks = ['Daymond','Kevin','Barbara','Robert']\n",
    "        else:\n",
    "            sharks = episode.text.split('Sharks: ')[1].split('\\n')[0].split(', ')\n",
    "            sharks = [shark.split(' ')[0] for shark in sharks]\n",
    "            \n",
    "        # Update Shark attendance rates in the dataframe\n",
    "        mask_episode = (df.Season==num_season+1) & (df['No. in series']==num_episode+1)\n",
    "        for shark in sharks:\n",
    "            if shark in shark_names:\n",
    "                df.loc[mask_episode, shark_names[shark]+'_present'] = 1"
   ]
  },
  {
   "cell_type": "code",
   "execution_count": 179,
   "metadata": {},
   "outputs": [],
   "source": [
    "df.to_csv('SharkTankData_WithAttendance.csv')"
   ]
  },
  {
   "cell_type": "code",
   "execution_count": 92,
   "metadata": {},
   "outputs": [
    {
     "name": "stdout",
     "output_type": "stream",
     "text": [
      "------------------------------\n",
      "Season #1\n",
      "------------------------------\n",
      "Season #2\n",
      "------------------------------\n",
      "Season #3\n",
      "------------------------------\n",
      "Season #4\n",
      "------------------------------\n",
      "Season #5\n"
     ]
    }
   ],
   "source": [
    "# First and last names of each shark\n",
    "shark_counts = dict(zip(shark_names.keys(),[0]*len(shark_names)))\n",
    "\n",
    "# Count the number of times each shark appeared on the show\n",
    "episode_count = 0\n",
    "for n,season in enumerate(seasons[:5]):\n",
    "    print(\"-\"*30)\n",
    "    print(\"Season #{n}\".format(n=n+1))\n",
    "    rows = season.find_all('tr', class_='vevent')\n",
    "    episodes = season.find_all('td', class_='description')\n",
    "    for row,episode in zip(rows,episodes):\n",
    "        episode_count += 1\n",
    "#         print(\"Episode: {}\".format(row.text.splitlines()[1]))\n",
    "        if n==0:\n",
    "            sharks = ['Daymond',\"O'Leary\",'Corcoran','Herjavec']\n",
    "        else:\n",
    "            sharks = episode.text.split('Sharks: ')[1].split('\\n')[0].split(', ')\n",
    "        for shark in sharks:\n",
    "            if shark in shark_counts:\n",
    "                shark_counts[shark] += 1"
   ]
  },
  {
   "cell_type": "code",
   "execution_count": 93,
   "metadata": {},
   "outputs": [
    {
     "data": {
      "text/plain": [
       "93"
      ]
     },
     "execution_count": 93,
     "metadata": {},
     "output_type": "execute_result"
    }
   ],
   "source": [
    "episode_count"
   ]
  },
  {
   "cell_type": "code",
   "execution_count": 94,
   "metadata": {},
   "outputs": [
    {
     "data": {
      "text/plain": [
       "{'Mark': 73,\n",
       " 'Daymond': 80,\n",
       " 'Barbara': 51,\n",
       " 'Robert': 76,\n",
       " 'Kevin': 73,\n",
       " 'Lori': 41}"
      ]
     },
     "execution_count": 94,
     "metadata": {},
     "output_type": "execute_result"
    }
   ],
   "source": [
    "shark_counts"
   ]
  },
  {
   "cell_type": "code",
   "execution_count": null,
   "metadata": {},
   "outputs": [],
   "source": []
  },
  {
   "cell_type": "code",
   "execution_count": 49,
   "metadata": {},
   "outputs": [],
   "source": []
  },
  {
   "cell_type": "code",
   "execution_count": 48,
   "metadata": {},
   "outputs": [
    {
     "data": {
      "text/plain": [
       "['Mark', 'Daymond', 'Kevin', 'Barbara', 'Robert']"
      ]
     },
     "execution_count": 48,
     "metadata": {},
     "output_type": "execute_result"
    }
   ],
   "source": [
    "episode.text.split('Sharks: ')[1].split('\\n')[0].split(', ')"
   ]
  }
 ],
 "metadata": {
  "kernelspec": {
   "display_name": "Python 3",
   "language": "python",
   "name": "python3"
  },
  "language_info": {
   "codemirror_mode": {
    "name": "ipython",
    "version": 3
   },
   "file_extension": ".py",
   "mimetype": "text/x-python",
   "name": "python",
   "nbconvert_exporter": "python",
   "pygments_lexer": "ipython3",
   "version": "3.6.5"
  }
 },
 "nbformat": 4,
 "nbformat_minor": 2
}
